{
 "cells": [
  {
   "cell_type": "code",
   "execution_count": null,
   "id": "56274df5",
   "metadata": {},
   "outputs": [],
   "source": [
    "import torch\n",
    "import torch.nn as nn\n",
    "import numpy as np\n",
    "import matplotlib.pyplot as plt"
   ]
  },
  {
   "cell_type": "code",
   "execution_count": null,
   "id": "7faaec95",
   "metadata": {},
   "outputs": [
    {
     "name": "stdout",
     "output_type": "stream",
     "text": [
      "'integer' is a 0-d Tensor: 1234\n",
      "'integer' is a 0-d Tensor: 3.1415927410125732\n"
     ]
    }
   ],
   "source": [
    "integer = torch.tensor(1234)\n",
    "decimal = torch.tensor(3.14159265359)\n",
    "\n",
    "print(f\"'integer' is a {integer.ndim}-d Tensor: {integer}\")\n",
    "print(f\"'integer' is a {decimal.ndim}-d Tensor: {decimal}\")"
   ]
  },
  {
   "cell_type": "code",
   "execution_count": null,
   "id": "88f57b33",
   "metadata": {},
   "outputs": [
    {
     "name": "stdout",
     "output_type": "stream",
     "text": [
      "'fibonacci' is a 1-d Tensor: tensor([1, 1, 2, 3, 5, 8])\n",
      "'count_to_100' is a 1-d Tensor: tensor([ 0,  1,  2,  3,  4,  5,  6,  7,  8,  9, 10, 11, 12, 13, 14, 15, 16, 17,\n",
      "        18, 19, 20, 21, 22, 23, 24, 25, 26, 27, 28, 29, 30, 31, 32, 33, 34, 35,\n",
      "        36, 37, 38, 39, 40, 41, 42, 43, 44, 45, 46, 47, 48, 49, 50, 51, 52, 53,\n",
      "        54, 55, 56, 57, 58, 59, 60, 61, 62, 63, 64, 65, 66, 67, 68, 69, 70, 71,\n",
      "        72, 73, 74, 75, 76, 77, 78, 79, 80, 81, 82, 83, 84, 85, 86, 87, 88, 89,\n",
      "        90, 91, 92, 93, 94, 95, 96, 97, 98, 99])\n"
     ]
    }
   ],
   "source": [
    "fibonacci = torch.tensor([1, 1, 2, 3, 5, 8])\n",
    "count_to_100 = torch.tensor(range(100))\n",
    "\n",
    "print(f\"'fibonacci' is a {fibonacci.ndim}-d Tensor: {fibonacci}\")\n",
    "print(f\"'count_to_100' is a {count_to_100.ndim}-d Tensor: {count_to_100}\")"
   ]
  },
  {
   "cell_type": "code",
   "execution_count": null,
   "id": "e357a629",
   "metadata": {},
   "outputs": [
    {
     "name": "stdout",
     "output_type": "stream",
     "text": [
      "'images is a 4-d Tensor with shape: torch.Size([10, 3, 256, 256])\n"
     ]
    }
   ],
   "source": [
    "### Defining higher-order Tensors ###\n",
    "\n",
    "\"\"\"TODO: Define a 2-d Tensor \"\"\"\n",
    "matrix = torch.tensor([[1,2,3,4,5],[1,2,3,4,5]])\n",
    "assert isinstance(matrix, torch.Tensor)\n",
    "assert matrix.ndim == 2 \n",
    "\n",
    "'''TODO: Define a 4-d Tensor '''\n",
    "# Use torch.zeros to initialize a 4-d Tensor of zeros with size 10 x 3 x 256 x 256.\n",
    "# You can think of this as 10 images where each image is RGB 256 x 256.\n",
    "images = torch.zeros(10, 3, 256, 256)\n",
    "assert isinstance(images, torch.Tensor)\n",
    "assert images.ndim == 4\n",
    "assert images.shape == (10, 3, 256 ,256)\n",
    "print(f\"'images is a {images.ndim}-d Tensor with shape: {images.shape}\")"
   ]
  },
  {
   "cell_type": "code",
   "execution_count": null,
   "id": "17b3e164",
   "metadata": {},
   "outputs": [
    {
     "name": "stdout",
     "output_type": "stream",
     "text": [
      "`row_vector`: tensor([1, 2, 3, 4, 5])\n",
      "`column_vector`: tensor([2, 2])\n",
      "`scalar`: 2\n"
     ]
    }
   ],
   "source": [
    "row_vector = matrix[1]\n",
    "column_vector = matrix[:, 1]\n",
    "scalar = matrix[0,1]\n",
    "\n",
    "print(f\"`row_vector`: {row_vector}\")\n",
    "print(f\"`column_vector`: {column_vector}\")\n",
    "print(f\"`scalar`: {scalar}\")"
   ]
  },
  {
   "cell_type": "code",
   "execution_count": null,
   "id": "51b6a9dc",
   "metadata": {},
   "outputs": [
    {
     "name": "stdout",
     "output_type": "stream",
     "text": [
      "c1: 76\n",
      "c2: 76\n"
     ]
    }
   ],
   "source": [
    "a = torch.tensor(15)\n",
    "b = torch.tensor(61)\n",
    "\n",
    "c1 = torch.add(a, b)\n",
    "c2 = a + b \n",
    "\n",
    "print(f\"c1: {c1}\")\n",
    "print(f\"c2: {c2}\")"
   ]
  },
  {
   "cell_type": "code",
   "execution_count": null,
   "id": "00ecac7e",
   "metadata": {},
   "outputs": [],
   "source": [
    "### Defining Tensor computations ###\n",
    "\n",
    "# Construct a simple computation function\n",
    "def func(a, b):\n",
    "\n",
    "    c = torch.add(a, b)\n",
    "    d = torch.subtract(b, 1)\n",
    "    e = torch.multiply(c, d)\n",
    "\n",
    "    return e"
   ]
  },
  {
   "cell_type": "code",
   "execution_count": null,
   "id": "1fd96be7",
   "metadata": {},
   "outputs": [
    {
     "name": "stdout",
     "output_type": "stream",
     "text": [
      "e_out: 6.0\n"
     ]
    }
   ],
   "source": [
    "a, b = 1.5, 2.5\n",
    "\n",
    "e_out = func(a, b)\n",
    "\n",
    "print(f\"e_out: {e_out}\")"
   ]
  },
  {
   "cell_type": "code",
   "execution_count": null,
   "id": "8fc9a69b",
   "metadata": {},
   "outputs": [],
   "source": [
    "### Defining a dense layer ###\n",
    "\n",
    "# num_inputs: number of input nodes\n",
    "# num_outputs: number of output nodes\n",
    "# x: input to the layer\n",
    "\n",
    "class OurDenseLayer(torch.nn.Module):\n",
    "    def __init__(self, num_inputs, num_outputs):\n",
    "        super(OurDenseLayer, self).__init__()\n",
    "        #radn -> apply weight and bias to input values \n",
    "        self.W = torch.nn.Parameter(torch.randn(num_inputs, num_outputs)) \n",
    "        self.bias = torch.nn.Parameter(torch.randn(num_outputs))\n",
    "\n",
    "    def forward(self, x):\n",
    "        z = torch.matmul(x, self.W) + self.bias\n",
    "       \n",
    "        y = torch.sigmoid(z)\n",
    "        \n",
    "        return y\n"
   ]
  },
  {
   "cell_type": "code",
   "execution_count": null,
   "id": "c2497d88",
   "metadata": {},
   "outputs": [
    {
     "name": "stdout",
     "output_type": "stream",
     "text": [
      "input shape: torch.Size([1, 2])\n",
      "output shape: torch.Size([1, 3])\n",
      "output result: tensor([[0.5869, 0.9422, 0.7899]], grad_fn=<SigmoidBackward0>)\n"
     ]
    }
   ],
   "source": [
    "num_inputs = 2 \n",
    "num_outputs = 3\n",
    "\n",
    "layer = OurDenseLayer(num_inputs, num_outputs)\n",
    "x_input = torch.tensor([[1, 2.]])\n",
    "y = layer(x_input)\n",
    "\n",
    "print(f\"input shape: {x_input.shape}\")\n",
    "print(f\"output shape: {y.shape}\")\n",
    "print(f\"output result: {y}\")"
   ]
  },
  {
   "cell_type": "code",
   "execution_count": null,
   "id": "5608ddf3",
   "metadata": {},
   "outputs": [],
   "source": [
    "### Defining a neural network using the PyTorch Sequential API ###\n",
    "\n",
    "# define the number of inputs and outputs\n",
    "n_input_nodes = 2 \n",
    "n_output_nodes = 3\n",
    "\n",
    "# Define the model\n",
    "'''TODO: Use the Sequential API to define a neural network with a\n",
    "    single linear (dense!) layer, followed by non-linearity to compute z'''\n",
    "\n",
    "model = nn.Sequential(nn.Linear(n_input_nodes, n_input_nodes),nn.Sigmoid())"
   ]
  },
  {
   "cell_type": "code",
   "execution_count": null,
   "id": "ab333778",
   "metadata": {},
   "outputs": [
    {
     "name": "stdout",
     "output_type": "stream",
     "text": [
      "input shape: torch.Size([1, 2])\n",
      "output shape: torch.Size([1, 3])\n",
      "output result: tensor([[0.5869, 0.9422, 0.7899]], grad_fn=<SigmoidBackward0>)\n"
     ]
    }
   ],
   "source": [
    "# Test the model with example input\n",
    "x_input = torch.tensor([[1, 2.]])\n",
    "model_output = model(x_input)\n",
    "print(f\"input shape: {x_input.shape}\")\n",
    "print(f\"output shape: {y.shape}\")\n",
    "print(f\"output result: {y}\")"
   ]
  },
  {
   "cell_type": "code",
   "execution_count": null,
   "id": "fbda8cf8",
   "metadata": {},
   "outputs": [],
   "source": [
    "class LinearWithSigmoidActivation(nn.Module):\n",
    "    def __init__(self, num_inputs, num_outputs):\n",
    "        super(LinearWithSigmoidActivation, self).__init__()\n",
    "        self.linear = nn.Linear(num_inputs, num_outputs)\n",
    "        self.activation = nn.Sigmoid() # does not have to pass the variable\n",
    "\n",
    "    def forward(self, inputs):\n",
    "        linear_output = self.linear(inputs)\n",
    "        output = self.activation(linear_output)\n",
    "        return output"
   ]
  },
  {
   "cell_type": "code",
   "execution_count": null,
   "id": "a87c02f2",
   "metadata": {},
   "outputs": [
    {
     "name": "stdout",
     "output_type": "stream",
     "text": [
      "input shape: torch.Size([1, 2])\n",
      "output shape: torch.Size([1, 3])\n",
      "output result: tensor([[0.7177, 0.3868, 0.3321]], grad_fn=<SigmoidBackward0>)\n"
     ]
    }
   ],
   "source": [
    "n_input_nodes = 2\n",
    "n_output_nodes = 3\n",
    "model = LinearWithSigmoidActivation(n_input_nodes, n_output_nodes)\n",
    "x_input = torch.tensor([[1, 2.]])\n",
    "y = model(x_input)\n",
    "print(f\"input shape: {x_input.shape}\")\n",
    "print(f\"output shape: {y.shape}\")\n",
    "print(f\"output result: {y}\")"
   ]
  },
  {
   "cell_type": "code",
   "execution_count": null,
   "id": "e823c796",
   "metadata": {},
   "outputs": [],
   "source": [
    "### Custom behavior with subclassing nn.Module ###\n",
    "class LinearButSometimesIdenitiy(nn.modules):\n",
    "    def __init__(self, num_inputs, num_outputs):\n",
    "        super(LinearButSometimesIdenitiy, self).__init__()\n",
    "        self.linear = nn.Linear(num_inputs, num_outputs)\n",
    "\n",
    "    '''TODO: Implement the behavior where the network outputs the input, unchanged,\n",
    "        under control of the isidentity argument.'''\n",
    "    def forward(self, inputs, isidentity=False):\n",
    "        \n"
   ]
  }
 ],
 "metadata": {
  "kernelspec": {
   "display_name": "dl-env",
   "language": "python",
   "name": "python3"
  },
  "language_info": {
   "codemirror_mode": {
    "name": "ipython",
    "version": 3
   },
   "file_extension": ".py",
   "mimetype": "text/x-python",
   "name": "python",
   "nbconvert_exporter": "python",
   "pygments_lexer": "ipython3",
   "version": "3.10.18"
  }
 },
 "nbformat": 4,
 "nbformat_minor": 5
}
